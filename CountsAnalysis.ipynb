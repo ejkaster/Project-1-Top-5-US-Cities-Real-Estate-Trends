{
 "cells": [
  {
   "cell_type": "code",
   "execution_count": 1,
   "metadata": {},
   "outputs": [],
   "source": [
    "import pandas as pd\n",
    "import matplotlib.pyplot as plt\n",
    "import scipy.stats as sts\n",
    "import numpy as np\n",
    "%matplotlib notebook"
   ]
  },
  {
   "cell_type": "code",
   "execution_count": 2,
   "metadata": {},
   "outputs": [
    {
     "data": {
      "text/html": [
       "<div>\n",
       "<style scoped>\n",
       "    .dataframe tbody tr th:only-of-type {\n",
       "        vertical-align: middle;\n",
       "    }\n",
       "\n",
       "    .dataframe tbody tr th {\n",
       "        vertical-align: top;\n",
       "    }\n",
       "\n",
       "    .dataframe thead th {\n",
       "        text-align: right;\n",
       "    }\n",
       "</style>\n",
       "<table border=\"1\" class=\"dataframe\">\n",
       "  <thead>\n",
       "    <tr style=\"text-align: right;\">\n",
       "      <th></th>\n",
       "      <th>Location Number</th>\n",
       "      <th>Location Name</th>\n",
       "      <th>Location Address</th>\n",
       "      <th>Location City</th>\n",
       "      <th>Location State</th>\n",
       "      <th>Location Zip</th>\n",
       "      <th>Location County</th>\n",
       "      <th>Inside/Outside City Limits</th>\n",
       "      <th>Liquor Receipts</th>\n",
       "      <th>Wine Receipts</th>\n",
       "      <th>Beer Receipts</th>\n",
       "      <th>Cover Charge Receipts</th>\n",
       "      <th>Total Receipts</th>\n",
       "    </tr>\n",
       "  </thead>\n",
       "  <tbody>\n",
       "    <tr>\n",
       "      <th>0</th>\n",
       "      <td>1</td>\n",
       "      <td>BEER MARKET CO</td>\n",
       "      <td>920 STUDEMONT ST STE 900</td>\n",
       "      <td>HOUSTON</td>\n",
       "      <td>TX</td>\n",
       "      <td>77007</td>\n",
       "      <td>101</td>\n",
       "      <td>Y</td>\n",
       "      <td>26664</td>\n",
       "      <td>4825</td>\n",
       "      <td>69957</td>\n",
       "      <td>0</td>\n",
       "      <td>101446</td>\n",
       "    </tr>\n",
       "    <tr>\n",
       "      <th>1</th>\n",
       "      <td>2</td>\n",
       "      <td>PRESIDIO</td>\n",
       "      <td>911 W 11TH ST</td>\n",
       "      <td>HOUSTON</td>\n",
       "      <td>TX</td>\n",
       "      <td>77008</td>\n",
       "      <td>101</td>\n",
       "      <td>Y</td>\n",
       "      <td>37824</td>\n",
       "      <td>37136</td>\n",
       "      <td>13945</td>\n",
       "      <td>0</td>\n",
       "      <td>88905</td>\n",
       "    </tr>\n",
       "    <tr>\n",
       "      <th>2</th>\n",
       "      <td>1</td>\n",
       "      <td>DADDY O'S SPORT BAR</td>\n",
       "      <td>5830 SPENCER HWY</td>\n",
       "      <td>PASADENA</td>\n",
       "      <td>TX</td>\n",
       "      <td>77505</td>\n",
       "      <td>101</td>\n",
       "      <td>Y</td>\n",
       "      <td>8542</td>\n",
       "      <td>150</td>\n",
       "      <td>9845</td>\n",
       "      <td>0</td>\n",
       "      <td>18537</td>\n",
       "    </tr>\n",
       "    <tr>\n",
       "      <th>3</th>\n",
       "      <td>1</td>\n",
       "      <td>CRAZY FROGS BAR AND GRILL</td>\n",
       "      <td>13703 WEST RD</td>\n",
       "      <td>HOUSTON</td>\n",
       "      <td>TX</td>\n",
       "      <td>77041</td>\n",
       "      <td>101</td>\n",
       "      <td>N</td>\n",
       "      <td>33016</td>\n",
       "      <td>825</td>\n",
       "      <td>26071</td>\n",
       "      <td>0</td>\n",
       "      <td>59912</td>\n",
       "    </tr>\n",
       "    <tr>\n",
       "      <th>4</th>\n",
       "      <td>1</td>\n",
       "      <td>DON PATRON BAR &amp; GRILL</td>\n",
       "      <td>500 DALLAS ST STE P50</td>\n",
       "      <td>HOUSTON</td>\n",
       "      <td>TX</td>\n",
       "      <td>77002</td>\n",
       "      <td>101</td>\n",
       "      <td>Y</td>\n",
       "      <td>5065</td>\n",
       "      <td>372</td>\n",
       "      <td>4465</td>\n",
       "      <td>0</td>\n",
       "      <td>9902</td>\n",
       "    </tr>\n",
       "  </tbody>\n",
       "</table>\n",
       "</div>"
      ],
      "text/plain": [
       "   Location Number              Location Name          Location Address  \\\n",
       "0                1             BEER MARKET CO  920 STUDEMONT ST STE 900   \n",
       "1                2                   PRESIDIO             911 W 11TH ST   \n",
       "2                1        DADDY O'S SPORT BAR          5830 SPENCER HWY   \n",
       "3                1  CRAZY FROGS BAR AND GRILL             13703 WEST RD   \n",
       "4                1     DON PATRON BAR & GRILL     500 DALLAS ST STE P50   \n",
       "\n",
       "  Location City Location State  Location Zip  Location County  \\\n",
       "0       HOUSTON             TX         77007              101   \n",
       "1       HOUSTON             TX         77008              101   \n",
       "2      PASADENA             TX         77505              101   \n",
       "3       HOUSTON             TX         77041              101   \n",
       "4       HOUSTON             TX         77002              101   \n",
       "\n",
       "  Inside/Outside City Limits  Liquor Receipts  Wine Receipts  Beer Receipts  \\\n",
       "0                          Y            26664           4825          69957   \n",
       "1                          Y            37824          37136          13945   \n",
       "2                          Y             8542            150           9845   \n",
       "3                          N            33016            825          26071   \n",
       "4                          Y             5065            372           4465   \n",
       "\n",
       "   Cover Charge Receipts  Total Receipts  \n",
       "0                      0          101446  \n",
       "1                      0           88905  \n",
       "2                      0           18537  \n",
       "3                      0           59912  \n",
       "4                      0            9902  "
      ]
     },
     "execution_count": 2,
     "metadata": {},
     "output_type": "execute_result"
    }
   ],
   "source": [
    "# Create a reference the CSV file desired\n",
    "csv_path = \"clean_houston_data.csv\"\n",
    "\n",
    "# Read the CSV into a Pandas DataFrame\n",
    "clean_df = pd.read_csv(csv_path)\n",
    "\n",
    "# Print the first five rows of data to the screen\n",
    "clean_df.head()"
   ]
  },
  {
   "cell_type": "code",
   "execution_count": 3,
   "metadata": {},
   "outputs": [
    {
     "data": {
      "text/plain": [
       "HOUSTON          310252\n",
       "KATY              18123\n",
       "SUGAR LAND        12885\n",
       "PEARLAND           9065\n",
       "PASADENA           8574\n",
       "CYPRESS            8420\n",
       "LEAGUE CITY        5213\n",
       "SOUTH HOUSTON      1514\n",
       "Name: Location City, dtype: int64"
      ]
     },
     "execution_count": 3,
     "metadata": {},
     "output_type": "execute_result"
    }
   ],
   "source": [
    "# Breakdown by city\n",
    "clean_df['Location City'].value_counts()\n"
   ]
  },
  {
   "cell_type": "code",
   "execution_count": 4,
   "metadata": {},
   "outputs": [
    {
     "data": {
      "text/html": [
       "<div>\n",
       "<style scoped>\n",
       "    .dataframe tbody tr th:only-of-type {\n",
       "        vertical-align: middle;\n",
       "    }\n",
       "\n",
       "    .dataframe tbody tr th {\n",
       "        vertical-align: top;\n",
       "    }\n",
       "\n",
       "    .dataframe thead th {\n",
       "        text-align: right;\n",
       "    }\n",
       "</style>\n",
       "<table border=\"1\" class=\"dataframe\">\n",
       "  <thead>\n",
       "    <tr style=\"text-align: right;\">\n",
       "      <th></th>\n",
       "      <th>Total TABC Entities</th>\n",
       "    </tr>\n",
       "  </thead>\n",
       "  <tbody>\n",
       "    <tr>\n",
       "      <th>0</th>\n",
       "      <td>374046</td>\n",
       "    </tr>\n",
       "  </tbody>\n",
       "</table>\n",
       "</div>"
      ],
      "text/plain": [
       "   Total TABC Entities\n",
       "0               374046"
      ]
     },
     "execution_count": 4,
     "metadata": {},
     "output_type": "execute_result"
    }
   ],
   "source": [
    "#Total Number of entities\n",
    "\n",
    "total_count = len(clean_df[\"Location City\"])\n",
    "total_count\n",
    "\n",
    "total_count_df = pd.DataFrame({\"Total TABC Entities\": [total_count]})\n",
    "total_count_df"
   ]
  },
  {
   "cell_type": "code",
   "execution_count": 5,
   "metadata": {},
   "outputs": [
    {
     "data": {
      "text/plain": [
       "HOUSTON          0.829449\n",
       "KATY             0.048451\n",
       "SUGAR LAND       0.034448\n",
       "PEARLAND         0.024235\n",
       "PASADENA         0.022922\n",
       "CYPRESS          0.022511\n",
       "LEAGUE CITY      0.013937\n",
       "SOUTH HOUSTON    0.004048\n",
       "Name: Location City, dtype: float64"
      ]
     },
     "execution_count": 5,
     "metadata": {},
     "output_type": "execute_result"
    }
   ],
   "source": [
    "#citybreakdown\n",
    "\n",
    "percent_df = clean_df['Location City'].value_counts(\"HOUSTON\")\n",
    "percent_df\n"
   ]
  },
  {
   "cell_type": "code",
   "execution_count": 10,
   "metadata": {},
   "outputs": [
    {
     "data": {
      "text/plain": [
       "HOUSTON          82.944878\n",
       "KATY              4.845126\n",
       "SUGAR LAND        3.444763\n",
       "PEARLAND          2.423499\n",
       "PASADENA          2.292231\n",
       "CYPRESS           2.251060\n",
       "LEAGUE CITY       1.393679\n",
       "SOUTH HOUSTON     0.404763\n",
       "Name: Location City, dtype: float64"
      ]
     },
     "execution_count": 10,
     "metadata": {},
     "output_type": "execute_result"
    }
   ],
   "source": [
    "total_count_all = percent_df*100\n",
    "total_count_all.sort_values(ascending=False)"
   ]
  },
  {
   "cell_type": "code",
   "execution_count": 19,
   "metadata": {},
   "outputs": [
    {
     "name": "stdout",
     "output_type": "stream",
     "text": [
      "   Location City  % of TABC Entities\n",
      "0        HOUSTON           82.944878\n",
      "1           KATY            4.845126\n",
      "2     SUGAR LAND            3.444763\n",
      "3       PEARLAND            2.423499\n",
      "4       PASADENA            2.292231\n",
      "5        CYPRESS            2.251060\n",
      "6    LEAGUE CITY            1.393679\n",
      "7  SOUTH HOUSTON            0.404763\n"
     ]
    }
   ],
   "source": [
    "\n",
    "cities = ['HOUSTON','KATY', 'SUGAR LAND', 'PEARLAND', 'PASADENA', 'CYPRESS', 'LEAGUE CITY', 'SOUTH HOUSTON'] \n",
    "percent_count = [82.944878, 4.845126, 3.444763, 2.423499, 2.292231, 2.251060, 1.393679, 0.404763 ] \n",
    "  \n",
    "city_series = pd.Series(cities) \n",
    "percent_series = pd.Series(percent_count) \n",
    "  \n",
    "frame = { 'Location City': city_series, '% of TABC Entities': percent_series } \n",
    "  \n",
    "TABC_counts = pd.DataFrame(frame) \n",
    "  \n",
    "print(TABC_counts)\n"
   ]
  },
  {
   "cell_type": "code",
   "execution_count": null,
   "metadata": {},
   "outputs": [],
   "source": []
  }
 ],
 "metadata": {
  "kernelspec": {
   "display_name": "Python [conda env:Project1] *",
   "language": "python",
   "name": "conda-env-Project1-py"
  },
  "language_info": {
   "codemirror_mode": {
    "name": "ipython",
    "version": 3
   },
   "file_extension": ".py",
   "mimetype": "text/x-python",
   "name": "python",
   "nbconvert_exporter": "python",
   "pygments_lexer": "ipython3",
   "version": "3.8.3"
  }
 },
 "nbformat": 4,
 "nbformat_minor": 4
}
